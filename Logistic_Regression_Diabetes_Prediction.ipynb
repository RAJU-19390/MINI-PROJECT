{
  "cells": [
    {
      "cell_type": "markdown",
      "metadata": {
        "id": "KybDc561mHCV"
      },
      "source": [
        "Mount Drive"
      ]
    },
    {
      "cell_type": "markdown",
      "metadata": {
        "id": "4b7tj3yWmZCi"
      },
      "source": [
        "Import Libraries"
      ]
    },
    {
      "cell_type": "code",
      "execution_count": 2,
      "metadata": {
        "id": "9H-v2DmfmbDZ"
      },
      "outputs": [],
      "source": [
        "import numpy as np\n",
        "import pandas as pd"
      ]
    },
    {
      "cell_type": "markdown",
      "metadata": {
        "id": "ZtsDbwn2my7B"
      },
      "source": [
        "Load Data"
      ]
    },
    {
      "cell_type": "code",
      "execution_count": 3,
      "metadata": {
        "colab": {
          "base_uri": "https://localhost:8080/",
          "height": 270
        },
        "id": "Y-136RzSm0Hy",
        "outputId": "a59db0b8-514b-4ff9-b8f7-71688ff80ae5"
      },
      "outputs": [
        {
          "data": {
            "text/html": [
              "<div>\n",
              "<style scoped>\n",
              "    .dataframe tbody tr th:only-of-type {\n",
              "        vertical-align: middle;\n",
              "    }\n",
              "\n",
              "    .dataframe tbody tr th {\n",
              "        vertical-align: top;\n",
              "    }\n",
              "\n",
              "    .dataframe thead th {\n",
              "        text-align: right;\n",
              "    }\n",
              "</style>\n",
              "<table border=\"1\" class=\"dataframe\">\n",
              "  <thead>\n",
              "    <tr style=\"text-align: right;\">\n",
              "      <th></th>\n",
              "      <th>Diabetes_binary</th>\n",
              "      <th>HighBP</th>\n",
              "      <th>HighChol</th>\n",
              "      <th>CholCheck</th>\n",
              "      <th>BMI</th>\n",
              "      <th>Smoker</th>\n",
              "      <th>Stroke</th>\n",
              "      <th>HeartDiseaseorAttack</th>\n",
              "      <th>PhysActivity</th>\n",
              "      <th>Fruits</th>\n",
              "      <th>Veggies</th>\n",
              "      <th>HvyAlcoholConsump</th>\n",
              "      <th>MentHlth</th>\n",
              "      <th>PhysHlth</th>\n",
              "      <th>DiffWalk</th>\n",
              "      <th>Sex</th>\n",
              "      <th>Age</th>\n",
              "    </tr>\n",
              "  </thead>\n",
              "  <tbody>\n",
              "    <tr>\n",
              "      <th>0</th>\n",
              "      <td>0</td>\n",
              "      <td>1</td>\n",
              "      <td>0</td>\n",
              "      <td>1</td>\n",
              "      <td>26</td>\n",
              "      <td>0</td>\n",
              "      <td>0</td>\n",
              "      <td>0</td>\n",
              "      <td>1</td>\n",
              "      <td>0</td>\n",
              "      <td>1</td>\n",
              "      <td>0</td>\n",
              "      <td>5</td>\n",
              "      <td>30</td>\n",
              "      <td>0</td>\n",
              "      <td>1</td>\n",
              "      <td>4</td>\n",
              "    </tr>\n",
              "    <tr>\n",
              "      <th>1</th>\n",
              "      <td>0</td>\n",
              "      <td>1</td>\n",
              "      <td>1</td>\n",
              "      <td>1</td>\n",
              "      <td>26</td>\n",
              "      <td>1</td>\n",
              "      <td>1</td>\n",
              "      <td>0</td>\n",
              "      <td>0</td>\n",
              "      <td>1</td>\n",
              "      <td>0</td>\n",
              "      <td>0</td>\n",
              "      <td>0</td>\n",
              "      <td>0</td>\n",
              "      <td>0</td>\n",
              "      <td>1</td>\n",
              "      <td>12</td>\n",
              "    </tr>\n",
              "    <tr>\n",
              "      <th>2</th>\n",
              "      <td>0</td>\n",
              "      <td>0</td>\n",
              "      <td>0</td>\n",
              "      <td>1</td>\n",
              "      <td>26</td>\n",
              "      <td>0</td>\n",
              "      <td>0</td>\n",
              "      <td>0</td>\n",
              "      <td>1</td>\n",
              "      <td>1</td>\n",
              "      <td>1</td>\n",
              "      <td>0</td>\n",
              "      <td>0</td>\n",
              "      <td>10</td>\n",
              "      <td>0</td>\n",
              "      <td>1</td>\n",
              "      <td>13</td>\n",
              "    </tr>\n",
              "    <tr>\n",
              "      <th>3</th>\n",
              "      <td>0</td>\n",
              "      <td>1</td>\n",
              "      <td>1</td>\n",
              "      <td>1</td>\n",
              "      <td>28</td>\n",
              "      <td>1</td>\n",
              "      <td>0</td>\n",
              "      <td>0</td>\n",
              "      <td>1</td>\n",
              "      <td>1</td>\n",
              "      <td>1</td>\n",
              "      <td>0</td>\n",
              "      <td>0</td>\n",
              "      <td>3</td>\n",
              "      <td>0</td>\n",
              "      <td>1</td>\n",
              "      <td>11</td>\n",
              "    </tr>\n",
              "    <tr>\n",
              "      <th>4</th>\n",
              "      <td>0</td>\n",
              "      <td>0</td>\n",
              "      <td>0</td>\n",
              "      <td>1</td>\n",
              "      <td>29</td>\n",
              "      <td>1</td>\n",
              "      <td>0</td>\n",
              "      <td>0</td>\n",
              "      <td>1</td>\n",
              "      <td>1</td>\n",
              "      <td>1</td>\n",
              "      <td>0</td>\n",
              "      <td>0</td>\n",
              "      <td>0</td>\n",
              "      <td>0</td>\n",
              "      <td>0</td>\n",
              "      <td>8</td>\n",
              "    </tr>\n",
              "  </tbody>\n",
              "</table>\n",
              "</div>"
            ],
            "text/plain": [
              "   Diabetes_binary  HighBP  HighChol  CholCheck  BMI  Smoker  Stroke  \\\n",
              "0                0       1         0          1   26       0       0   \n",
              "1                0       1         1          1   26       1       1   \n",
              "2                0       0         0          1   26       0       0   \n",
              "3                0       1         1          1   28       1       0   \n",
              "4                0       0         0          1   29       1       0   \n",
              "\n",
              "   HeartDiseaseorAttack  PhysActivity  Fruits  Veggies  HvyAlcoholConsump  \\\n",
              "0                     0             1       0        1                  0   \n",
              "1                     0             0       1        0                  0   \n",
              "2                     0             1       1        1                  0   \n",
              "3                     0             1       1        1                  0   \n",
              "4                     0             1       1        1                  0   \n",
              "\n",
              "   MentHlth  PhysHlth  DiffWalk  Sex  Age  \n",
              "0         5        30         0    1    4  \n",
              "1         0         0         0    1   12  \n",
              "2         0        10         0    1   13  \n",
              "3         0         3         0    1   11  \n",
              "4         0         0         0    0    8  "
            ]
          },
          "execution_count": 3,
          "metadata": {},
          "output_type": "execute_result"
        }
      ],
      "source": [
        "data = pd.read_csv(\"Minor Project_data.csv\")\n",
        "data.head()"
      ]
    },
    {
      "cell_type": "markdown",
      "metadata": {
        "id": "T6pBGx3am8wY"
      },
      "source": [
        "Missing Values Treatment"
      ]
    },
    {
      "cell_type": "markdown",
      "metadata": {
        "id": "75du166knIIq"
      },
      "source": [
        "Min and Max Values"
      ]
    },
    {
      "cell_type": "code",
      "execution_count": 4,
      "metadata": {
        "id": "Ye5-ms9hnKIp"
      },
      "outputs": [],
      "source": [
        "bmi_min = data['BMI'].min()\n",
        "bmi_max = data['BMI'].max()\n",
        "mhealth_min = data['MentHlth'].min()\n",
        "mhealth_max = data['MentHlth'].max()\n",
        "phealth_min = data['PhysHlth'].min()\n",
        "phealth_max = data['PhysHlth'].max()\n",
        "age_min = data['Age'].min()\n",
        "age_max = data['Age'].max()"
      ]
    },
    {
      "cell_type": "markdown",
      "metadata": {
        "id": "u0F0l6Fcn_-X"
      },
      "source": [
        "Normalisation"
      ]
    },
    {
      "cell_type": "code",
      "execution_count": 5,
      "metadata": {
        "colab": {
          "base_uri": "https://localhost:8080/",
          "height": 270
        },
        "id": "B8WMVYIDoBBm",
        "outputId": "093083b5-a029-4262-a867-5900c289656e"
      },
      "outputs": [
        {
          "data": {
            "text/html": [
              "<div>\n",
              "<style scoped>\n",
              "    .dataframe tbody tr th:only-of-type {\n",
              "        vertical-align: middle;\n",
              "    }\n",
              "\n",
              "    .dataframe tbody tr th {\n",
              "        vertical-align: top;\n",
              "    }\n",
              "\n",
              "    .dataframe thead th {\n",
              "        text-align: right;\n",
              "    }\n",
              "</style>\n",
              "<table border=\"1\" class=\"dataframe\">\n",
              "  <thead>\n",
              "    <tr style=\"text-align: right;\">\n",
              "      <th></th>\n",
              "      <th>Diabetes_binary</th>\n",
              "      <th>HighBP</th>\n",
              "      <th>HighChol</th>\n",
              "      <th>CholCheck</th>\n",
              "      <th>BMI</th>\n",
              "      <th>Smoker</th>\n",
              "      <th>Stroke</th>\n",
              "      <th>HeartDiseaseorAttack</th>\n",
              "      <th>PhysActivity</th>\n",
              "      <th>Fruits</th>\n",
              "      <th>Veggies</th>\n",
              "      <th>HvyAlcoholConsump</th>\n",
              "      <th>MentHlth</th>\n",
              "      <th>PhysHlth</th>\n",
              "      <th>DiffWalk</th>\n",
              "      <th>Sex</th>\n",
              "      <th>Age</th>\n",
              "    </tr>\n",
              "  </thead>\n",
              "  <tbody>\n",
              "    <tr>\n",
              "      <th>0</th>\n",
              "      <td>0</td>\n",
              "      <td>1</td>\n",
              "      <td>0</td>\n",
              "      <td>1</td>\n",
              "      <td>0.162791</td>\n",
              "      <td>0</td>\n",
              "      <td>0</td>\n",
              "      <td>0</td>\n",
              "      <td>1</td>\n",
              "      <td>0</td>\n",
              "      <td>1</td>\n",
              "      <td>0</td>\n",
              "      <td>0.166667</td>\n",
              "      <td>1.000000</td>\n",
              "      <td>0</td>\n",
              "      <td>1</td>\n",
              "      <td>0.250000</td>\n",
              "    </tr>\n",
              "    <tr>\n",
              "      <th>1</th>\n",
              "      <td>0</td>\n",
              "      <td>1</td>\n",
              "      <td>1</td>\n",
              "      <td>1</td>\n",
              "      <td>0.162791</td>\n",
              "      <td>1</td>\n",
              "      <td>1</td>\n",
              "      <td>0</td>\n",
              "      <td>0</td>\n",
              "      <td>1</td>\n",
              "      <td>0</td>\n",
              "      <td>0</td>\n",
              "      <td>0.000000</td>\n",
              "      <td>0.000000</td>\n",
              "      <td>0</td>\n",
              "      <td>1</td>\n",
              "      <td>0.916667</td>\n",
              "    </tr>\n",
              "    <tr>\n",
              "      <th>2</th>\n",
              "      <td>0</td>\n",
              "      <td>0</td>\n",
              "      <td>0</td>\n",
              "      <td>1</td>\n",
              "      <td>0.162791</td>\n",
              "      <td>0</td>\n",
              "      <td>0</td>\n",
              "      <td>0</td>\n",
              "      <td>1</td>\n",
              "      <td>1</td>\n",
              "      <td>1</td>\n",
              "      <td>0</td>\n",
              "      <td>0.000000</td>\n",
              "      <td>0.333333</td>\n",
              "      <td>0</td>\n",
              "      <td>1</td>\n",
              "      <td>1.000000</td>\n",
              "    </tr>\n",
              "    <tr>\n",
              "      <th>3</th>\n",
              "      <td>0</td>\n",
              "      <td>1</td>\n",
              "      <td>1</td>\n",
              "      <td>1</td>\n",
              "      <td>0.186047</td>\n",
              "      <td>1</td>\n",
              "      <td>0</td>\n",
              "      <td>0</td>\n",
              "      <td>1</td>\n",
              "      <td>1</td>\n",
              "      <td>1</td>\n",
              "      <td>0</td>\n",
              "      <td>0.000000</td>\n",
              "      <td>0.100000</td>\n",
              "      <td>0</td>\n",
              "      <td>1</td>\n",
              "      <td>0.833333</td>\n",
              "    </tr>\n",
              "    <tr>\n",
              "      <th>4</th>\n",
              "      <td>0</td>\n",
              "      <td>0</td>\n",
              "      <td>0</td>\n",
              "      <td>1</td>\n",
              "      <td>0.197674</td>\n",
              "      <td>1</td>\n",
              "      <td>0</td>\n",
              "      <td>0</td>\n",
              "      <td>1</td>\n",
              "      <td>1</td>\n",
              "      <td>1</td>\n",
              "      <td>0</td>\n",
              "      <td>0.000000</td>\n",
              "      <td>0.000000</td>\n",
              "      <td>0</td>\n",
              "      <td>0</td>\n",
              "      <td>0.583333</td>\n",
              "    </tr>\n",
              "  </tbody>\n",
              "</table>\n",
              "</div>"
            ],
            "text/plain": [
              "   Diabetes_binary  HighBP  HighChol  CholCheck       BMI  Smoker  Stroke  \\\n",
              "0                0       1         0          1  0.162791       0       0   \n",
              "1                0       1         1          1  0.162791       1       1   \n",
              "2                0       0         0          1  0.162791       0       0   \n",
              "3                0       1         1          1  0.186047       1       0   \n",
              "4                0       0         0          1  0.197674       1       0   \n",
              "\n",
              "   HeartDiseaseorAttack  PhysActivity  Fruits  Veggies  HvyAlcoholConsump  \\\n",
              "0                     0             1       0        1                  0   \n",
              "1                     0             0       1        0                  0   \n",
              "2                     0             1       1        1                  0   \n",
              "3                     0             1       1        1                  0   \n",
              "4                     0             1       1        1                  0   \n",
              "\n",
              "   MentHlth  PhysHlth  DiffWalk  Sex       Age  \n",
              "0  0.166667  1.000000         0    1  0.250000  \n",
              "1  0.000000  0.000000         0    1  0.916667  \n",
              "2  0.000000  0.333333         0    1  1.000000  \n",
              "3  0.000000  0.100000         0    1  0.833333  \n",
              "4  0.000000  0.000000         0    0  0.583333  "
            ]
          },
          "execution_count": 5,
          "metadata": {},
          "output_type": "execute_result"
        }
      ],
      "source": [
        "from sklearn.preprocessing import MinMaxScaler\n",
        "scaler = MinMaxScaler()\n",
        "\n",
        "# Applying scaler() to all the columns except the 'yes-no' and 'dummy' variables\n",
        "num_vars = ['BMI', 'MentHlth', 'PhysHlth', 'Age']\n",
        "data[num_vars] = scaler.fit_transform(data[num_vars])\n",
        "data.head()"
      ]
    },
    {
      "cell_type": "markdown",
      "metadata": {
        "id": "ab05-LyqoPr6"
      },
      "source": [
        "Data Split"
      ]
    },
    {
      "cell_type": "code",
      "execution_count": 6,
      "metadata": {
        "id": "e3bhiM05oRQr"
      },
      "outputs": [],
      "source": [
        "from sklearn.model_selection import train_test_split\n",
        "df_train, df_test = train_test_split(data, train_size = 0.7, test_size = 0.3, random_state = 100)"
      ]
    },
    {
      "cell_type": "code",
      "execution_count": 7,
      "metadata": {
        "id": "G5oa7V7AoT8-"
      },
      "outputs": [],
      "source": [
        "y_train = df_train.pop('Diabetes_binary')\n",
        "X_train = df_train\n",
        "y_test = df_test.pop('Diabetes_binary')\n",
        "X_test = df_test"
      ]
    },
    {
      "cell_type": "markdown",
      "metadata": {
        "id": "crFfE1vgobil"
      },
      "source": [
        "Logistic Regression"
      ]
    },
    {
      "cell_type": "code",
      "execution_count": 8,
      "metadata": {
        "colab": {
          "base_uri": "https://localhost:8080/"
        },
        "id": "9e7xdzkOodIh",
        "outputId": "b5a26067-2e45-466d-e244-78d5e387c2b1"
      },
      "outputs": [
        {
          "data": {
            "text/plain": [
              "LogisticRegression()"
            ]
          },
          "execution_count": 8,
          "metadata": {},
          "output_type": "execute_result"
        }
      ],
      "source": [
        "from sklearn.linear_model import LogisticRegression\n",
        "lr_model = LogisticRegression()\n",
        "lr_model.fit(X_train,y_train)"
      ]
    },
    {
      "cell_type": "code",
      "execution_count": 9,
      "metadata": {
        "id": "FLkXBXlVoe7I"
      },
      "outputs": [],
      "source": [
        "y_pred_train = lr_model.predict(X_train)\n",
        "y_pred_test = lr_model.predict(X_test)"
      ]
    },
    {
      "cell_type": "code",
      "execution_count": 10,
      "metadata": {
        "colab": {
          "base_uri": "https://localhost:8080/"
        },
        "id": "2XyK7X5Aofqp",
        "outputId": "dc54779e-4db5-4974-8c00-c3e746eb3050"
      },
      "outputs": [
        {
          "name": "stdout",
          "output_type": "stream",
          "text": [
            " Training Accuracy 0.7346819173874384\n",
            " Testing Accuracy 0.7306676725763863\n"
          ]
        }
      ],
      "source": [
        "print(\" Training Accuracy\",lr_model.score(X_train, y_train))\n",
        "print(\" Testing Accuracy\",lr_model.score(X_test, y_test))"
      ]
    },
    {
      "cell_type": "code",
      "execution_count": 11,
      "metadata": {
        "colab": {
          "base_uri": "https://localhost:8080/"
        },
        "id": "ebzgH84toj9h",
        "outputId": "44c36e05-276f-4461-d6e3-07500e2e5280"
      },
      "outputs": [
        {
          "data": {
            "text/plain": [
              "array([[7495, 3038],\n",
              "       [2674, 8001]], dtype=int64)"
            ]
          },
          "execution_count": 11,
          "metadata": {},
          "output_type": "execute_result"
        }
      ],
      "source": [
        "from sklearn.metrics import confusion_matrix\n",
        "confusion_matrix(y_test, y_pred_test)"
      ]
    },
    {
      "cell_type": "code",
      "execution_count": 12,
      "metadata": {
        "colab": {
          "base_uri": "https://localhost:8080/"
        },
        "id": "R-fkBNtqolH1",
        "outputId": "a51e0adc-5d91-423c-fee2-847116fbbc03"
      },
      "outputs": [
        {
          "data": {
            "text/plain": [
              "array([[17824,  6989],\n",
              "       [ 6140, 18531]], dtype=int64)"
            ]
          },
          "execution_count": 12,
          "metadata": {},
          "output_type": "execute_result"
        }
      ],
      "source": [
        "confusion_matrix(y_train, y_pred_train)"
      ]
    },
    {
      "cell_type": "code",
      "execution_count": 13,
      "metadata": {
        "id": "NbG5B4-FWGBt"
      },
      "outputs": [],
      "source": [
        "import pickle\n",
        "filename='model.pkl'\n",
        "pickle.dump(lr_model,open(filename, 'wb'))"
      ]
    },
    {
      "cell_type": "code",
      "execution_count": 17,
      "metadata": {
        "colab": {
          "base_uri": "https://localhost:8080/"
        },
        "id": "olVn4rwwWmIQ",
        "outputId": "214ac205-3ae8-4c54-e3f1-d43bfb258914"
      },
      "outputs": [
        {
          "name": "stdout",
          "output_type": "stream",
          "text": [
            "Please refer the below age category while uploading your age \n",
            "1 (18 to 24) , 2 (25 to 29), 3 (30 to 34), 4 (35 to 39), 5 (40 to 44), 6(45 to 49), 7(50 to 54)\n",
            "8 (55 to 59), 9 (60 to 64), 10 (65 to 69), 11 (70 to 74), 12 (75 to 79), 13 (80 or older)\n",
            "You may have Diabetes\n"
          ]
        }
      ],
      "source": [
        "list_of_columns=data.columns\n",
        "input_data=pd.DataFrame(columns=list_of_columns)\n",
        "input_data.drop(['Diabetes_binary'], axis='columns',inplace=True)\n",
        "\n",
        "input_data.at[0,'HighBP']=int(input('Enter if you have High BP (1 or 0) : '))\n",
        "input_data.at[0,'HighChol']=int(input('Enter if you have High Cholestrol (1 or 0) : '))\n",
        "\n",
        "input_data.at[0,'CholCheck']=int(input('Enter if you have cholestrol check in past 5 years (1 or 0)'))\n",
        "input_data.at[0,'BMI']=int(input('Enter your BMI(Body Mass Index) : '))\n",
        "\n",
        "input_data.at[0,'Smoker']=int(input('Enter if you are a Smoker or not (1 or 0): '))\n",
        "input_data.at[0,'Stroke']=int(input('Enter if you had a Heart Stroke or not (1 or 0): '))\n",
        "\n",
        "input_data.at[0,'HeartDiseaseorAttack']=int(input('Enter if you have any HeartDiseaseorAttack (1 or 0): '))\n",
        "input_data.at[0,'PhysActivity']=int(input('Enter if you do any PhysActivity(job is excluded)(1 or 0): '))\n",
        "\n",
        "input_data.at[0,'Fruits']=int(input('Enter if you eat any Fruits daily or not (1 or 0)  : '))\n",
        "input_data.at[0,'Veggies']=int(input('Enter if you eat any Veggies daily or not (1 or 0)  : '))\n",
        "\n",
        "input_data.at[0,'HvyAlcoholConsump']=int(input('Enter if you are a Heavy Alcohol Consumer or not (1 or 0) : '))\n",
        "input_data.at[0,'MentHlth']=int(input('Enter no of days of poor Mental health : '))\n",
        "\n",
        "input_data.at[0,'PhysHlth']=int(input('Enter no of days of poor Physical health : '))\n",
        "input_data.at[0,'DiffWalk']=int(input('Enter if you have any difficulty in Walking or not  (1 or 0): '))\n",
        "\n",
        "input_data.at[0,'Sex']=int(input('Enter your Gender (0- female, 1 - male) : '))\n",
        "\n",
        "print('Please refer the below age category while uploading your age ')\n",
        "print('1 (18 to 24) , 2 (25 to 29), 3 (30 to 34), 4 (35 to 39), 5 (40 to 44), 6(45 to 49), 7(50 to 54)')\n",
        "print('8 (55 to 59), 9 (60 to 64), 10 (65 to 69), 11 (70 to 74), 12 (75 to 79), 13 (80 or older)')\n",
        "\n",
        "input_data.at[0,'Age']=int(input('Enter your Age : '))\n",
        "\n",
        "input_data['BMI']=(input_data['BMI']-data['BMI'].min())/(data['BMI'].max()-data['BMI'].min())\n",
        "input_data['MentHlth']=(input_data['MentHlth']-data['MentHlth'].min())/(data['MentHlth'].max()-data['MentHlth'].min())\n",
        "input_data['PhysHlth']=(input_data['PhysHlth']-data['PhysHlth'].min())/(data['PhysHlth'].max()-data['PhysHlth'].min())\n",
        "input_data['Age']=(input_data['Age']-data['Age'].min())/(data['Age'].max()-data['Age'].min())\n",
        "\n",
        "model=pickle.load(open('model.pkl','rb'))\n",
        "y_pred=model.predict(input_data)\n",
        "\n",
        "if(y_pred[0]==1):\n",
        "  print(\"You may have Diabetes\")\n",
        "else:\n",
        "  print('You are not having Diabetes')"
      ]
    }
  ],
  "metadata": {
    "colab": {
      "collapsed_sections": [],
      "name": "Logistic_Regression_Diabetes_Prediction.ipynb",
      "provenance": []
    },
    "kernelspec": {
      "display_name": "Python 3",
      "name": "python3"
    },
    "language_info": {
      "codemirror_mode": {
        "name": "ipython",
        "version": 3
      },
      "file_extension": ".py",
      "mimetype": "text/x-python",
      "name": "python",
      "nbconvert_exporter": "python",
      "pygments_lexer": "ipython3",
      "version": "3.8.10"
    }
  },
  "nbformat": 4,
  "nbformat_minor": 0
}
